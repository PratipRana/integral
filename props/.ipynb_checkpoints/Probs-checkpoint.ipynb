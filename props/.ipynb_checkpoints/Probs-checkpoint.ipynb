{
 "cells": [
  {
   "cell_type": "code",
   "execution_count": 1,
   "metadata": {},
   "outputs": [],
   "source": [
    "import numpy as np\n",
    "import pandas as pd\n",
    "import math\n",
    "import pycuda.autoinit\n",
    "import pycuda.driver as cuda\n",
    "from pycuda.compiler import SourceModule"
   ]
  },
  {
   "cell_type": "code",
   "execution_count": 2,
   "metadata": {},
   "outputs": [],
   "source": [
    "mod = SourceModule(\"\"\"\n",
    "    #define N 1000\n",
    "    \n",
    "    \n",
    "  \n",
    "    \n",
    "    \n",
    "    __global__ void doIndexy(float *Z, int *indexx, int *indexy, float *pin, float *PYX,int total )\n",
    "    { \n",
    "       \n",
    "        int idx = blockIdx.x * blockDim.x + threadIdx.x; //this is actually j in indexy\n",
    "        int t = 0; \n",
    "        if(idx >= total){\n",
    "            return;\n",
    "        }\n",
    "        //printf(\"%d/n\", total);\n",
    "        float sum = 0;\n",
    "        int j = indexy[idx]; \n",
    "        for (int i = 0; i < total ;i++){\n",
    "           \n",
    "           sum += Z[indexx[i]+j];\n",
    "           printf(\"%f\\\\n\", Z[indexx[i]+j]);\n",
    "        }; \n",
    "        //printf(\"%f/n\", sum);\n",
    "        PYX[idx] = sum; \n",
    "        \n",
    "        //printf (\"%d:::::::\\\\t\", idx);\n",
    "       \n",
    "       // in[idx*(d+1)+5]=integral(in[idx*(d+1)+0],in[idx*(d+1)+1], in[idx*(d+1)+2], in[idx*(d+1)+3], in[idx*(d+1)+4]);\n",
    "    }\"\"\")\n"
   ]
  },
  {
   "cell_type": "code",
   "execution_count": 3,
   "metadata": {},
   "outputs": [],
   "source": [
    "func = mod.get_function(\"doIndexy\")\n"
   ]
  },
  {
   "cell_type": "code",
   "execution_count": 4,
   "metadata": {},
   "outputs": [],
   "source": [
    "Z = np.random.randn(25,3)\n",
    "Z = np.abs(Z)"
   ]
  },
  {
   "cell_type": "code",
   "execution_count": 5,
   "metadata": {},
   "outputs": [],
   "source": [
    "def in_dist(a,b,tau=1):\n",
    "    ps = np.empty(len(a))\n",
    "    for i in range(len(a)):\n",
    "        if(b[i] >= a[i]):\n",
    "            ps[i] = (1/tau**2)*(math.exp(-1*b[i]/tau))\n",
    "        else: \n",
    "            ps[i] = 0\n",
    "    return ps\n",
    "            "
   ]
  },
  {
   "cell_type": "code",
   "execution_count": 6,
   "metadata": {},
   "outputs": [],
   "source": [
    "# x, y = np.meshgrid([x for x in np.arange(0,2.05,0.05)],[x for x in np.arange(0,2.05,0.05)])\n",
    "x, y = np.meshgrid([x for x in np.arange(0,2,1)],[x for x in np.arange(0,2,1)])"
   ]
  },
  {
   "cell_type": "code",
   "execution_count": 7,
   "metadata": {},
   "outputs": [],
   "source": [
    "t = y \n",
    "y = np.reshape(x,-1)\n",
    "x =np.reshape(t,-1)"
   ]
  },
  {
   "cell_type": "code",
   "execution_count": 8,
   "metadata": {},
   "outputs": [],
   "source": [
    "pin = in_dist(x,y, 0.5)\n",
    "pin = pin.T"
   ]
  },
  {
   "cell_type": "code",
   "execution_count": 9,
   "metadata": {},
   "outputs": [
    {
     "data": {
      "text/plain": [
       "array([ 4.        ,  0.54134113,  0.        ,  0.54134113])"
      ]
     },
     "execution_count": 9,
     "metadata": {},
     "output_type": "execute_result"
    }
   ],
   "source": [
    "pin"
   ]
  },
  {
   "cell_type": "code",
   "execution_count": 10,
   "metadata": {},
   "outputs": [],
   "source": [
    "indexy = np.array([],dtype=int)\n",
    "for k in range (1,3):\n",
    "    \n",
    "    a = [i for i in range(1+5*(k-1),3+5*(k-1))] ### possible index error\n",
    "    \n",
    "    indexy =np.append(indexy,a)\n"
   ]
  },
  {
   "cell_type": "code",
   "execution_count": null,
   "metadata": {},
   "outputs": [],
   "source": []
  },
  {
   "cell_type": "code",
   "execution_count": 11,
   "metadata": {},
   "outputs": [
    {
     "name": "stdout",
     "output_type": "stream",
     "text": [
      "[0, 1, 2, 3]\n",
      "[5, 6, 7, 8]\n",
      "[10, 11, 12, 13]\n",
      "[15, 16, 17, 18]\n"
     ]
    }
   ],
   "source": [
    "indexx = np.array([],dtype=int)\n",
    "for k in range (0,4):\n",
    "    \n",
    "    a = [i for i in range(5*(k),5*(k)+4)] ### possible index error\n",
    "    print (a)\n",
    "    indexx =np.append(indexx,a)"
   ]
  },
  {
   "cell_type": "code",
   "execution_count": 12,
   "metadata": {},
   "outputs": [
    {
     "data": {
      "text/plain": [
       "array([ 6,  7,  8,  9, 11, 12, 13, 14, 16, 17, 18, 19, 21, 22, 23, 24])"
      ]
     },
     "execution_count": 12,
     "metadata": {},
     "output_type": "execute_result"
    }
   ],
   "source": [
    "indexx = indexx-1\n",
    "indexx+indexy[-1]"
   ]
  },
  {
   "cell_type": "code",
   "execution_count": 13,
   "metadata": {},
   "outputs": [
    {
     "data": {
      "text/plain": [
       "4"
      ]
     },
     "execution_count": 13,
     "metadata": {},
     "output_type": "execute_result"
    }
   ],
   "source": [
    "len(indexy)"
   ]
  },
  {
   "cell_type": "code",
   "execution_count": 14,
   "metadata": {},
   "outputs": [],
   "source": [
    "PYX = np.empty(len(indexy),np.float32)\n",
    "PY = np.empty(len(indexx),np.float32)"
   ]
  },
  {
   "cell_type": "code",
   "execution_count": 28,
   "metadata": {},
   "outputs": [
    {
     "data": {
      "text/plain": [
       "1"
      ]
     },
     "execution_count": 28,
     "metadata": {},
     "output_type": "execute_result"
    }
   ],
   "source": []
  },
  {
   "cell_type": "code",
   "execution_count": 15,
   "metadata": {},
   "outputs": [],
   "source": [
    "count = 0\n",
    "for j in indexy:\n",
    "    A = Z[indexx+j,2]\n",
    "    PYX [count] = 0.05*0.05*np.sum(A*np.log(A))\n",
    "    count = count + 1"
   ]
  },
  {
   "cell_type": "code",
   "execution_count": 16,
   "metadata": {},
   "outputs": [],
   "source": [
    "count = 0\n",
    "for j in indexx:\n",
    "    B = Z[indexy+j,2]\n",
    "    PY [count] = 0.05*0.05*np.sum(B*pin)\n",
    "    count = count + 1"
   ]
  },
  {
   "cell_type": "code",
   "execution_count": 17,
   "metadata": {},
   "outputs": [
    {
     "data": {
      "text/plain": [
       "array([ 0.00955539,  0.00565268,  0.01196502,  0.00419884], dtype=float32)"
      ]
     },
     "execution_count": 17,
     "metadata": {},
     "output_type": "execute_result"
    }
   ],
   "source": [
    "PYX"
   ]
  },
  {
   "cell_type": "code",
   "execution_count": 18,
   "metadata": {},
   "outputs": [
    {
     "data": {
      "text/plain": [
       "array([ 0.01150354,  0.00566889,  0.01589372,  0.00205097,  0.00668792,\n",
       "        0.01120024,  0.01686006,  0.01195253,  0.02258792,  0.01489762,\n",
       "        0.00214219,  0.00292703,  0.00506989,  0.02370378,  0.02574306,\n",
       "        0.00735192], dtype=float32)"
      ]
     },
     "execution_count": 18,
     "metadata": {},
     "output_type": "execute_result"
    }
   ],
   "source": [
    "PY"
   ]
  },
  {
   "cell_type": "code",
   "execution_count": 19,
   "metadata": {},
   "outputs": [],
   "source": [
    "Z_2 = Z[:,2]"
   ]
  },
  {
   "cell_type": "code",
   "execution_count": null,
   "metadata": {},
   "outputs": [],
   "source": [
    "\n",
    "\n",
    "\n"
   ]
  },
  {
   "cell_type": "code",
   "execution_count": 20,
   "metadata": {},
   "outputs": [],
   "source": [
    "d_Z_2 = cuda.mem_alloc(Z_2.nbytes)\n",
    "cuda.memcpy_htod(d_Z_2, indexx)\n",
    "\n",
    "d_indexx = cuda.mem_alloc(indexx.nbytes)\n",
    "cuda.memcpy_htod(d_indexx, indexx)\n",
    "\n",
    "d_indexy = cuda.mem_alloc(indexy.nbytes)\n",
    "cuda.memcpy_htod(d_indexy, indexy)\n",
    "\n",
    "d_pin = cuda.mem_alloc(pin.nbytes) \n",
    "cuda.memcpy_htod(d_pin, pin)\n",
    "\n",
    "d_PYX = cuda.mem_alloc(PYX.nbytes) \n",
    "cuda.memcpy_htod(d_PYX, PYX)\n",
    "\n",
    "\n"
   ]
  },
  {
   "cell_type": "code",
   "execution_count": 21,
   "metadata": {},
   "outputs": [],
   "source": [
    "blocksize = 4\n",
    "gridsize = math.floor(len(indexy)/blocksize)+1\n",
    "func(d_Z_2, d_indexx, d_indexy, d_pin, d_PYX, np.int32(len(indexx)),  block=(blocksize,1,1), grid =(gridsize,1,1))"
   ]
  },
  {
   "cell_type": "code",
   "execution_count": 22,
   "metadata": {},
   "outputs": [
    {
     "data": {
      "text/plain": [
       "16"
      ]
     },
     "execution_count": 22,
     "metadata": {},
     "output_type": "execute_result"
    }
   ],
   "source": [
    "len(indexx)"
   ]
  },
  {
   "cell_type": "code",
   "execution_count": 23,
   "metadata": {},
   "outputs": [],
   "source": [
    "h_test_out = np.zeros(len(indexy), np.float32)\n",
    "\n",
    "\n"
   ]
  },
  {
   "cell_type": "code",
   "execution_count": 24,
   "metadata": {},
   "outputs": [],
   "source": [
    "cuda.memcpy_dtoh(h_test_out, d_PYX)"
   ]
  },
  {
   "cell_type": "code",
   "execution_count": 25,
   "metadata": {},
   "outputs": [
    {
     "data": {
      "text/plain": [
       "array([ nan,  nan,  nan,  nan], dtype=float32)"
      ]
     },
     "execution_count": 25,
     "metadata": {},
     "output_type": "execute_result"
    }
   ],
   "source": [
    "h_test_out\n"
   ]
  },
  {
   "cell_type": "code",
   "execution_count": 26,
   "metadata": {},
   "outputs": [
    {
     "data": {
      "text/html": [
       "<div>\n",
       "<style scoped>\n",
       "    .dataframe tbody tr th:only-of-type {\n",
       "        vertical-align: middle;\n",
       "    }\n",
       "\n",
       "    .dataframe tbody tr th {\n",
       "        vertical-align: top;\n",
       "    }\n",
       "\n",
       "    .dataframe thead th {\n",
       "        text-align: right;\n",
       "    }\n",
       "</style>\n",
       "<table border=\"1\" class=\"dataframe\">\n",
       "  <thead>\n",
       "    <tr style=\"text-align: right;\">\n",
       "      <th></th>\n",
       "      <th>0</th>\n",
       "    </tr>\n",
       "  </thead>\n",
       "  <tbody>\n",
       "    <tr>\n",
       "      <th>0</th>\n",
       "      <td>NaN</td>\n",
       "    </tr>\n",
       "    <tr>\n",
       "      <th>1</th>\n",
       "      <td>NaN</td>\n",
       "    </tr>\n",
       "    <tr>\n",
       "      <th>2</th>\n",
       "      <td>NaN</td>\n",
       "    </tr>\n",
       "    <tr>\n",
       "      <th>3</th>\n",
       "      <td>NaN</td>\n",
       "    </tr>\n",
       "  </tbody>\n",
       "</table>\n",
       "</div>"
      ],
      "text/plain": [
       "    0\n",
       "0 NaN\n",
       "1 NaN\n",
       "2 NaN\n",
       "3 NaN"
      ]
     },
     "execution_count": 26,
     "metadata": {},
     "output_type": "execute_result"
    }
   ],
   "source": [
    "pd.DataFrame(h_test_out)"
   ]
  },
  {
   "cell_type": "code",
   "execution_count": null,
   "metadata": {},
   "outputs": [],
   "source": []
  }
 ],
 "metadata": {
  "kernelspec": {
   "display_name": "Python (tf)",
   "language": "python",
   "name": "tensorflow"
  },
  "language_info": {
   "codemirror_mode": {
    "name": "ipython",
    "version": 3
   },
   "file_extension": ".py",
   "mimetype": "text/x-python",
   "name": "python",
   "nbconvert_exporter": "python",
   "pygments_lexer": "ipython3",
   "version": "3.6.4"
  }
 },
 "nbformat": 4,
 "nbformat_minor": 2
}
