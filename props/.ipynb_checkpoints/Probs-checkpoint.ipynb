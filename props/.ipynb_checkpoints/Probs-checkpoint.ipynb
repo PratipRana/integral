{
 "cells": [
  {
   "cell_type": "code",
   "execution_count": 4,
   "metadata": {},
   "outputs": [],
   "source": [
    "import numpy as np\n",
    "import math"
   ]
  },
  {
   "cell_type": "code",
   "execution_count": 67,
   "metadata": {},
   "outputs": [],
   "source": [
    "Z = np.random.randn(25921,3)\n",
    "Z = np.abs(Z)"
   ]
  },
  {
   "cell_type": "code",
   "execution_count": 5,
   "metadata": {},
   "outputs": [],
   "source": [
    "def in_dist(a,b,tau=1):\n",
    "    ps = np.empty(len(a))\n",
    "    for i in range(len(a)):\n",
    "        if(b[i] >= a[i]):\n",
    "            ps[i] = (1/tau**2)*(math.exp(-1*b[i]/tau))\n",
    "        else: \n",
    "            ps[i] = 0\n",
    "    return ps\n",
    "            "
   ]
  },
  {
   "cell_type": "code",
   "execution_count": 34,
   "metadata": {},
   "outputs": [],
   "source": [
    "x, y = np.meshgrid([x for x in np.arange(0,2,0.05)],[x for x in np.arange(0,2,0.05)])"
   ]
  },
  {
   "cell_type": "code",
   "execution_count": 35,
   "metadata": {},
   "outputs": [],
   "source": [
    "t = y \n",
    "y = np.reshape(x,-1)\n",
    "x =np.reshape(t,-1)"
   ]
  },
  {
   "cell_type": "code",
   "execution_count": 36,
   "metadata": {},
   "outputs": [
    {
     "data": {
      "text/plain": [
       "array([ 1. ,  1. ,  1. ,  1. ,  1. ,  1.5,  1.5,  1.5,  1.5,  1.5,  2. ,\n",
       "        2. ,  2. ,  2. ,  2. ,  2.5,  2.5,  2.5,  2.5,  2.5,  3. ,  3. ,\n",
       "        3. ,  3. ,  3. ])"
      ]
     },
     "execution_count": 36,
     "metadata": {},
     "output_type": "execute_result"
    }
   ],
   "source": [
    "x"
   ]
  },
  {
   "cell_type": "code",
   "execution_count": 37,
   "metadata": {},
   "outputs": [
    {
     "data": {
      "text/plain": [
       "array([ 1. ,  1.5,  2. ,  2.5,  3. ,  1. ,  1.5,  2. ,  2.5,  3. ,  1. ,\n",
       "        1.5,  2. ,  2.5,  3. ,  1. ,  1.5,  2. ,  2.5,  3. ,  1. ,  1.5,\n",
       "        2. ,  2.5,  3. ])"
      ]
     },
     "execution_count": 37,
     "metadata": {},
     "output_type": "execute_result"
    }
   ],
   "source": [
    "y"
   ]
  },
  {
   "cell_type": "code",
   "execution_count": 40,
   "metadata": {},
   "outputs": [],
   "source": [
    "pin = in_dist(x,y, 0.5)\n",
    "pin = pin.T"
   ]
  },
  {
   "cell_type": "code",
   "execution_count": null,
   "metadata": {},
   "outputs": [],
   "source": []
  },
  {
   "cell_type": "code",
   "execution_count": 41,
   "metadata": {},
   "outputs": [
    {
     "data": {
      "text/plain": [
       "array([ 0.54134113,  0.19914827,  0.07326256,  0.02695179,  0.00991501,\n",
       "        0.        ,  0.19914827,  0.07326256,  0.02695179,  0.00991501,\n",
       "        0.        ,  0.        ,  0.07326256,  0.02695179,  0.00991501,\n",
       "        0.        ,  0.        ,  0.        ,  0.02695179,  0.00991501,\n",
       "        0.        ,  0.        ,  0.        ,  0.        ,  0.00991501])"
      ]
     },
     "execution_count": 41,
     "metadata": {},
     "output_type": "execute_result"
    }
   ],
   "source": [
    "pin"
   ]
  },
  {
   "cell_type": "code",
   "execution_count": 77,
   "metadata": {},
   "outputs": [],
   "source": [
    "indexy = np.array([],dtype=int)\n",
    "for k in range (1,42):\n",
    "    \n",
    "    a = [i for i in range(1+161*(k-1),42+161*(k-1))] ### possible index error\n",
    "    \n",
    "    indexy =np.append(indexy,a)\n"
   ]
  },
  {
   "cell_type": "code",
   "execution_count": 78,
   "metadata": {},
   "outputs": [],
   "source": [
    "indexx = np.array([],dtype=int)\n",
    "for k in range (0,121):\n",
    "    \n",
    "    a = [i for i in range(161*(k-1),121+161*(k-1))] ### possible index error\n",
    "    \n",
    "    indexx =np.append(indexx,a)"
   ]
  },
  {
   "cell_type": "code",
   "execution_count": 84,
   "metadata": {},
   "outputs": [],
   "source": [
    "PYX = np.empty(len(indexy))\n",
    "PY = np.empty(len(indexx))"
   ]
  },
  {
   "cell_type": "code",
   "execution_count": 85,
   "metadata": {},
   "outputs": [],
   "source": [
    "count = 0\n",
    "for j in indexy:\n",
    "    A = Z[indexx+j,2]\n",
    "    PYX [count] = 0.05*0.05*np.sum(A*np.log(A))\n",
    "    count = count + 1"
   ]
  },
  {
   "cell_type": "code",
   "execution_count": 86,
   "metadata": {},
   "outputs": [
    {
     "ename": "ValueError",
     "evalue": "operands could not be broadcast together with shapes (1681,) (25,) ",
     "output_type": "error",
     "traceback": [
      "\u001b[0;31m---------------------------------------------------------------------------\u001b[0m",
      "\u001b[0;31mValueError\u001b[0m                                Traceback (most recent call last)",
      "\u001b[0;32m<ipython-input-86-054aef164e08>\u001b[0m in \u001b[0;36m<module>\u001b[0;34m()\u001b[0m\n\u001b[1;32m      2\u001b[0m \u001b[0;32mfor\u001b[0m \u001b[0mj\u001b[0m \u001b[0;32min\u001b[0m \u001b[0mindexx\u001b[0m\u001b[0;34m:\u001b[0m\u001b[0;34m\u001b[0m\u001b[0m\n\u001b[1;32m      3\u001b[0m     \u001b[0mB\u001b[0m \u001b[0;34m=\u001b[0m \u001b[0mZ\u001b[0m\u001b[0;34m[\u001b[0m\u001b[0mindexy\u001b[0m\u001b[0;34m+\u001b[0m\u001b[0mj\u001b[0m\u001b[0;34m,\u001b[0m\u001b[0;36m2\u001b[0m\u001b[0;34m]\u001b[0m\u001b[0;34m\u001b[0m\u001b[0m\n\u001b[0;32m----> 4\u001b[0;31m     \u001b[0mPY\u001b[0m \u001b[0;34m[\u001b[0m\u001b[0mcount\u001b[0m\u001b[0;34m]\u001b[0m \u001b[0;34m=\u001b[0m \u001b[0;36m0.05\u001b[0m\u001b[0;34m*\u001b[0m\u001b[0;36m0.05\u001b[0m\u001b[0;34m*\u001b[0m\u001b[0mnp\u001b[0m\u001b[0;34m.\u001b[0m\u001b[0msum\u001b[0m\u001b[0;34m(\u001b[0m\u001b[0mB\u001b[0m\u001b[0;34m*\u001b[0m\u001b[0mpin\u001b[0m\u001b[0;34m)\u001b[0m\u001b[0;34m\u001b[0m\u001b[0m\n\u001b[0m\u001b[1;32m      5\u001b[0m     \u001b[0mcount\u001b[0m \u001b[0;34m=\u001b[0m \u001b[0mcount\u001b[0m \u001b[0;34m+\u001b[0m \u001b[0;36m1\u001b[0m\u001b[0;34m\u001b[0m\u001b[0m\n",
      "\u001b[0;31mValueError\u001b[0m: operands could not be broadcast together with shapes (1681,) (25,) "
     ]
    }
   ],
   "source": [
    "count = 0\n",
    "for j in indexx:\n",
    "    B = Z[indexy+j,2]\n",
    "    PY [count] = 0.05*0.05*np.sum(B*pin)\n",
    "    count = count + 1"
   ]
  },
  {
   "cell_type": "code",
   "execution_count": null,
   "metadata": {},
   "outputs": [],
   "source": []
  }
 ],
 "metadata": {
  "kernelspec": {
   "display_name": "Python (tf)",
   "language": "python",
   "name": "tensorflow"
  },
  "language_info": {
   "codemirror_mode": {
    "name": "ipython",
    "version": 3
   },
   "file_extension": ".py",
   "mimetype": "text/x-python",
   "name": "python",
   "nbconvert_exporter": "python",
   "pygments_lexer": "ipython3",
   "version": "3.6.4"
  }
 },
 "nbformat": 4,
 "nbformat_minor": 2
}
