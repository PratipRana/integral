{
 "cells": [
  {
   "cell_type": "code",
   "execution_count": 115,
   "metadata": {},
   "outputs": [],
   "source": [
    "import numpy as np\n",
    "import math\n",
    "import pycuda.autoinit\n",
    "import pycuda.driver as cuda\n",
    "from pycuda.compiler import SourceModule"
   ]
  },
  {
   "cell_type": "code",
   "execution_count": null,
   "metadata": {},
   "outputs": [],
   "source": [
    "mod = SourceModule(\"\"\"\n",
    "    #define N 1000\n",
    "    __device__ float f(float x)\n",
    "    {\t\n",
    "        float mu=1.0;\n",
    "        float lambda=1.0;\n",
    "        float fx;\n",
    "        if(x>0.01){\n",
    "            fx=(sqrt(lambda/(2*M_PI*pow(x,3))))*exp(((-1*lambda*pow((x-mu),2))/(2*pow(mu,2)*x)));\n",
    "        }\n",
    "            else\n",
    "            fx=0;\n",
    "\n",
    "        return fx;\n",
    "\n",
    "    }\n",
    "    \n",
    "    __device__ float integral(float x1, float x2, float x3, float x4, float x5){\n",
    "            //float x1=0,x2=0,x3=0,x4=0; /*these are the main variable, use range (-2:0.1:2) */\n",
    "            float i, a=0.0, b=50, sum=0;\n",
    "            /* printf(\"nThis program will integrate a function between two boundary limits.\"); */\n",
    "             if (a > b) {\n",
    "              i = a;\n",
    "              a = b;\n",
    "              b = i;\n",
    "             }\n",
    "             for (i = a; i < b; i += (b - a) / N) {\n",
    "              float y;\n",
    "              y = f(i)*f(i-x1)*f(i-x2)*f(i-x3)*f(i-x4)*f(i-x5);\n",
    "              //printf(\"%f\",y);\n",
    "              sum += y * (b - a) / N;\n",
    "             }\n",
    "            return sum;\n",
    "    }\n",
    "\n",
    "    \n",
    "    \n",
    "    __global__ void doSome(float *in, int total, int d )\n",
    "    { \n",
    "       \n",
    "        int idx = blockIdx.x * blockDim.x + threadIdx.x; \n",
    "\n",
    "        if(idx >= total){\n",
    "            return;\n",
    "        }\n",
    "        //printf (\"%d:::::::\\\\t\", idx);\n",
    "       \n",
    "        in[idx*(d+1)+5]=integral(in[idx*(d+1)+0],in[idx*(d+1)+1], in[idx*(d+1)+2], in[idx*(d+1)+3], in[idx*(d+1)+4]);\n",
    "    }\"\"\")\n"
   ]
  },
  {
   "cell_type": "code",
   "execution_count": null,
   "metadata": {},
   "outputs": [],
   "source": [
    "func = mod.get_function(\"doSome\")\n",
    "d_in = cuda.mem_alloc(h_in.nbytes)\n",
    "cuda.memcpy_htod(d_in, h_in)"
   ]
  },
  {
   "cell_type": "code",
   "execution_count": 88,
   "metadata": {},
   "outputs": [],
   "source": [
    "Z = np.random.randn(25921,3)\n",
    "Z = np.abs(Z)"
   ]
  },
  {
   "cell_type": "code",
   "execution_count": 89,
   "metadata": {},
   "outputs": [],
   "source": [
    "def in_dist(a,b,tau=1):\n",
    "    ps = np.empty(len(a))\n",
    "    for i in range(len(a)):\n",
    "        if(b[i] >= a[i]):\n",
    "            ps[i] = (1/tau**2)*(math.exp(-1*b[i]/tau))\n",
    "        else: \n",
    "            ps[i] = 0\n",
    "    return ps\n",
    "            "
   ]
  },
  {
   "cell_type": "code",
   "execution_count": 101,
   "metadata": {},
   "outputs": [],
   "source": [
    "x, y = np.meshgrid([x for x in np.arange(0,2.05,0.05)],[x for x in np.arange(0,2.05,0.05)])"
   ]
  },
  {
   "cell_type": "code",
   "execution_count": 102,
   "metadata": {},
   "outputs": [],
   "source": [
    "t = y \n",
    "y = np.reshape(x,-1)\n",
    "x =np.reshape(t,-1)"
   ]
  },
  {
   "cell_type": "code",
   "execution_count": 103,
   "metadata": {},
   "outputs": [
    {
     "data": {
      "text/plain": [
       "array([ 0.,  0.,  0., ...,  2.,  2.,  2.])"
      ]
     },
     "execution_count": 103,
     "metadata": {},
     "output_type": "execute_result"
    }
   ],
   "source": [
    "x"
   ]
  },
  {
   "cell_type": "code",
   "execution_count": 104,
   "metadata": {},
   "outputs": [
    {
     "data": {
      "text/plain": [
       "array([ 0.  ,  0.05,  0.1 , ...,  1.9 ,  1.95,  2.  ])"
      ]
     },
     "execution_count": 104,
     "metadata": {},
     "output_type": "execute_result"
    }
   ],
   "source": [
    "y"
   ]
  },
  {
   "cell_type": "code",
   "execution_count": 105,
   "metadata": {},
   "outputs": [],
   "source": [
    "pin = in_dist(x,y, 0.5)\n",
    "pin = pin.T"
   ]
  },
  {
   "cell_type": "code",
   "execution_count": null,
   "metadata": {},
   "outputs": [],
   "source": []
  },
  {
   "cell_type": "code",
   "execution_count": 106,
   "metadata": {},
   "outputs": [
    {
     "data": {
      "text/plain": [
       "array([ 4.        ,  3.61934967,  3.27492301, ...,  0.        ,\n",
       "        0.        ,  0.07326256])"
      ]
     },
     "execution_count": 106,
     "metadata": {},
     "output_type": "execute_result"
    }
   ],
   "source": [
    "pin"
   ]
  },
  {
   "cell_type": "code",
   "execution_count": 107,
   "metadata": {},
   "outputs": [],
   "source": [
    "indexy = np.array([],dtype=int)\n",
    "for k in range (1,42):\n",
    "    \n",
    "    a = [i for i in range(1+161*(k-1),42+161*(k-1))] ### possible index error\n",
    "    \n",
    "    indexy =np.append(indexy,a)\n"
   ]
  },
  {
   "cell_type": "code",
   "execution_count": 108,
   "metadata": {},
   "outputs": [],
   "source": [
    "indexx = np.array([],dtype=int)\n",
    "for k in range (0,121):\n",
    "    \n",
    "    a = [i for i in range(161*(k-1),121+161*(k-1))] ### possible index error\n",
    "    \n",
    "    indexx =np.append(indexx,a)"
   ]
  },
  {
   "cell_type": "code",
   "execution_count": 109,
   "metadata": {},
   "outputs": [],
   "source": [
    "PYX = np.empty(len(indexy))\n",
    "PY = np.empty(len(indexx))"
   ]
  },
  {
   "cell_type": "code",
   "execution_count": 110,
   "metadata": {},
   "outputs": [],
   "source": [
    "count = 0\n",
    "for j in indexy:\n",
    "    A = Z[indexx+j,2]\n",
    "    PYX [count] = 0.05*0.05*np.sum(A*np.log(A))\n",
    "    count = count + 1"
   ]
  },
  {
   "cell_type": "code",
   "execution_count": 111,
   "metadata": {},
   "outputs": [],
   "source": [
    "count = 0\n",
    "for j in indexx:\n",
    "    B = Z[indexy+j,2]\n",
    "    PY [count] = 0.05*0.05*np.sum(B*pin)\n",
    "    count = count + 1"
   ]
  },
  {
   "cell_type": "code",
   "execution_count": 112,
   "metadata": {},
   "outputs": [
    {
     "data": {
      "text/plain": [
       "array([ 1.73605918,  1.77749142,  1.76467234, ...,  1.6933896 ,\n",
       "        1.70473901,  1.67658168])"
      ]
     },
     "execution_count": 112,
     "metadata": {},
     "output_type": "execute_result"
    }
   ],
   "source": [
    "PYX"
   ]
  },
  {
   "cell_type": "code",
   "execution_count": 113,
   "metadata": {},
   "outputs": [
    {
     "data": {
      "text/plain": [
       "array([ 0.79149454,  0.7814128 ,  0.78743315, ...,  0.76405792,\n",
       "        0.76662481,  0.76792314])"
      ]
     },
     "execution_count": 113,
     "metadata": {},
     "output_type": "execute_result"
    }
   ],
   "source": [
    "PY"
   ]
  },
  {
   "cell_type": "code",
   "execution_count": null,
   "metadata": {},
   "outputs": [],
   "source": []
  }
 ],
 "metadata": {
  "kernelspec": {
   "display_name": "Python (tf)",
   "language": "python",
   "name": "tensorflow"
  },
  "language_info": {
   "codemirror_mode": {
    "name": "ipython",
    "version": 3
   },
   "file_extension": ".py",
   "mimetype": "text/x-python",
   "name": "python",
   "nbconvert_exporter": "python",
   "pygments_lexer": "ipython3",
   "version": "3.6.4"
  }
 },
 "nbformat": 4,
 "nbformat_minor": 2
}
