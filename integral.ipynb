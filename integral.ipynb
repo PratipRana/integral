{
 "cells": [
  {
   "cell_type": "markdown",
   "metadata": {},
   "source": [
    "Device 0: \"GeForce GTX TITAN X\"\n",
    "  CUDA Driver Version / Runtime Version          9.1 / 9.1\n",
    "  CUDA Capability Major/Minor version number:    5.2\n",
    "  Total amount of global memory:                 12213 MBytes (12806062080 bytes)\n",
    "  (24) Multiprocessors, (128) CUDA Cores/MP:     3072 CUDA Cores\n",
    "  GPU Max Clock rate:                            1076 MHz (1.08 GHz)\n",
    "  Memory Clock rate:                             3505 Mhz\n",
    "  Memory Bus Width:                              384-bit\n",
    "  L2 Cache Size:                                 3145728 bytes\n",
    "  Maximum Texture Dimension Size (x,y,z)         1D=(65536), 2D=(65536, 65536), 3D=(4096, 4096, 4096)\n",
    "  Maximum Layered 1D Texture Size, (num) layers  1D=(16384), 2048 layers\n",
    "  Maximum Layered 2D Texture Size, (num) layers  2D=(16384, 16384), 2048 layers\n",
    "  Total amount of constant memory:               65536 bytes\n",
    "  Total amount of shared memory per block:       49152 bytes\n",
    "  Total number of registers available per block: 65536\n",
    "  Warp size:                                     32\n",
    "  Maximum number of threads per multiprocessor:  2048\n",
    "  Maximum number of threads per block:           1024\n",
    "  Max dimension size of a thread block (x,y,z): (1024, 1024, 64)\n",
    "  Max dimension size of a grid size    (x,y,z): (2147483647, 65535, 65535)\n",
    "  Maximum memory pitch:                          2147483647 bytes\n",
    "  Texture alignment:                             512 bytes\n",
    "  Concurrent copy and kernel execution:          Yes with 2 copy engine(s)\n",
    "  Run time limit on kernels:                     No\n",
    "  Integrated GPU sharing Host Memory:            No\n",
    "  Support host page-locked memory mapping:       Yes\n",
    "  Alignment requirement for Surfaces:            Yes\n",
    "  Device has ECC support:                        Disabled\n",
    "  Device supports Unified Addressing (UVA):      Yes\n",
    "  Device PCI Domain ID / Bus ID / location ID:   0 / 132 / 0\n"
   ]
  },
  {
   "cell_type": "code",
   "execution_count": 1,
   "metadata": {
    "collapsed": true
   },
   "outputs": [],
   "source": [
    "import pycuda.autoinit\n",
    "import pycuda.driver as cuda\n",
    "import numpy as np \n",
    "import pandas as pd\n",
    "from pycuda.compiler import SourceModule\n",
    "import math\n",
    "import itertools"
   ]
  },
  {
   "cell_type": "code",
   "execution_count": 2,
   "metadata": {},
   "outputs": [],
   "source": [
    "mod = SourceModule(\"\"\"\n",
    "    #define N 1000\n",
    "    __device__ float f(float x)\n",
    "    {\t\n",
    "        float mu=1.0;\n",
    "        float lambda=1.0;\n",
    "        float fx;\n",
    "        if(x>0.01){\n",
    "            fx=(sqrt(lambda/(2*M_PI*pow(x,3))))*exp(((-1*lambda*pow((x-mu),2))/(2*pow(mu,2)*x)));\n",
    "        }\n",
    "            else\n",
    "            fx=0;\n",
    "\n",
    "        return fx;\n",
    "\n",
    "    }\n",
    "    \n",
    "    __device__ float integral(float x1, float x2, float x3, float x4){\n",
    "            //float x1=0,x2=0,x3=0,x4=0; /*these are the main variable, use range (-2:0.1:2) */\n",
    "            float i, a=0.0, b=50, sum=0;\n",
    "            /* printf(\"nThis program will integrate a function between two boundary limits.\"); */\n",
    "             if (a > b) {\n",
    "              i = a;\n",
    "              a = b;\n",
    "              b = i;\n",
    "             }\n",
    "             for (i = a; i < b; i += (b - a) / N) {\n",
    "              float y;\n",
    "              y = f(i)*f(i-x1)*f(i-x2)*f(i-x3)*f(i-x4);\n",
    "              printf(\"%f\",y);\n",
    "              sum += y * (b - a) / N;\n",
    "             }\n",
    "            return sum;\n",
    "    }\n",
    "\n",
    "    \n",
    "    \n",
    "    __global__ void doSome(float **in )\n",
    "    { \n",
    "       \n",
    "        int idx = blockIdx.x * blockDim.x + threadIdx.x; \n",
    "        printf(\"%0.2f\",in[idx][1]);\n",
    "        in[idx][2]=integral(1,1,1,1);\n",
    "    }\"\"\")"
   ]
  },
  {
   "cell_type": "code",
   "execution_count": 3,
   "metadata": {
    "collapsed": true
   },
   "outputs": [],
   "source": [
    "#guassian distribution integral\n",
    "n = 41 #number of steps\n",
    "d = 2# number of dimentions\n",
    "total = n**d;\n",
    "h_in = np.zeros((total,d+1), np.float32)\n",
    "\n"
   ]
  },
  {
   "cell_type": "code",
   "execution_count": 4,
   "metadata": {},
   "outputs": [],
   "source": [
    "# generate permutations\n",
    "perm = np.empty((total,d), np.float32)\n",
    "i=0\n",
    "for x in itertools.product(np.arange(-2.0, 2.0, 0.1), repeat=d):\n",
    "    perm[i] = x\n",
    "    i=i+1 "
   ]
  },
  {
   "cell_type": "code",
   "execution_count": 5,
   "metadata": {},
   "outputs": [
    {
     "data": {
      "text/plain": [
       "(1681, 3)"
      ]
     },
     "execution_count": 5,
     "metadata": {},
     "output_type": "execute_result"
    }
   ],
   "source": [
    "# add one coloumn for reseult\n",
    "\n",
    "\n",
    "h_in[:,:-1] = perm\n",
    "h_in.shape"
   ]
  },
  {
   "cell_type": "code",
   "execution_count": 6,
   "metadata": {},
   "outputs": [],
   "source": [
    "func = mod.get_function(\"doSome\")\n",
    "d_in = cuda.mem_alloc(h_in.nbytes)"
   ]
  },
  {
   "cell_type": "code",
   "execution_count": 7,
   "metadata": {},
   "outputs": [
    {
     "ename": "LogicError",
     "evalue": "cuMemcpyDtoH failed: an illegal memory access was encountered",
     "output_type": "error",
     "traceback": [
      "\u001b[0;31m---------------------------------------------------------------------------\u001b[0m",
      "\u001b[0;31mLogicError\u001b[0m                                Traceback (most recent call last)",
      "\u001b[0;32m<ipython-input-7-d66b05f6e7d6>\u001b[0m in \u001b[0;36m<module>\u001b[0;34m()\u001b[0m\n\u001b[1;32m      2\u001b[0m \u001b[0mgridsize\u001b[0m \u001b[0;34m=\u001b[0m \u001b[0mmath\u001b[0m\u001b[0;34m.\u001b[0m\u001b[0mfloor\u001b[0m\u001b[0;34m(\u001b[0m\u001b[0mtotal\u001b[0m\u001b[0;34m/\u001b[0m\u001b[0mblocksize\u001b[0m\u001b[0;34m)\u001b[0m\u001b[0;34m+\u001b[0m\u001b[0;36m1\u001b[0m\u001b[0;34m\u001b[0m\u001b[0m\n\u001b[1;32m      3\u001b[0m \u001b[0mfunc\u001b[0m\u001b[0;34m(\u001b[0m\u001b[0md_in\u001b[0m\u001b[0;34m,\u001b[0m \u001b[0mblock\u001b[0m\u001b[0;34m=\u001b[0m\u001b[0;34m(\u001b[0m\u001b[0mblocksize\u001b[0m\u001b[0;34m,\u001b[0m\u001b[0;36m1\u001b[0m\u001b[0;34m,\u001b[0m\u001b[0;36m1\u001b[0m\u001b[0;34m)\u001b[0m\u001b[0;34m,\u001b[0m \u001b[0mgrid\u001b[0m \u001b[0;34m=\u001b[0m\u001b[0;34m(\u001b[0m\u001b[0mgridsize\u001b[0m\u001b[0;34m,\u001b[0m\u001b[0;36m1\u001b[0m\u001b[0;34m,\u001b[0m\u001b[0;36m1\u001b[0m\u001b[0;34m)\u001b[0m\u001b[0;34m)\u001b[0m\u001b[0;34m\u001b[0m\u001b[0m\n\u001b[0;32m----> 4\u001b[0;31m \u001b[0mcuda\u001b[0m\u001b[0;34m.\u001b[0m\u001b[0mmemcpy_dtoh\u001b[0m\u001b[0;34m(\u001b[0m\u001b[0mh_in\u001b[0m\u001b[0;34m,\u001b[0m \u001b[0md_in\u001b[0m\u001b[0;34m)\u001b[0m\u001b[0;34m\u001b[0m\u001b[0m\n\u001b[0m",
      "\u001b[0;31mLogicError\u001b[0m: cuMemcpyDtoH failed: an illegal memory access was encountered"
     ]
    }
   ],
   "source": [
    "blocksize = 16 \n",
    "gridsize = math.floor(total/blocksize)+1\n",
    "func(d_in, block=(blocksize,1,1), grid =(gridsize,1,1))\n",
    "cuda.memcpy_dtoh(h_in, d_in)"
   ]
  },
  {
   "cell_type": "code",
   "execution_count": null,
   "metadata": {},
   "outputs": [],
   "source": [
    "pd.DataFrame(data=h_res)[100:180]"
   ]
  },
  {
   "cell_type": "code",
   "execution_count": null,
   "metadata": {
    "collapsed": true
   },
   "outputs": [],
   "source": []
  }
 ],
 "metadata": {
  "kernelspec": {
   "display_name": "Python (tf)",
   "language": "python",
   "name": "tensorflow"
  },
  "language_info": {
   "codemirror_mode": {
    "name": "ipython",
    "version": 3
   },
   "file_extension": ".py",
   "mimetype": "text/x-python",
   "name": "python",
   "nbconvert_exporter": "python",
   "pygments_lexer": "ipython3",
   "version": "3.6.4"
  }
 },
 "nbformat": 4,
 "nbformat_minor": 2
}
